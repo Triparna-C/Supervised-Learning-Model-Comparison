{
 "cells": [
  {
   "cell_type": "markdown",
   "id": "90e67146",
   "metadata": {},
   "source": [
   ]
  },
  {
   "cell_type": "markdown",
   "id": "19e7b04f",
   "metadata": {},
   "source": [
    "### Random Forest Algorithm\n",
    "\n",
    "\n",
    "Random Forest Algorithm is one of the supervised learning methods.\n",
    "Implementing the same on a dataset named Car_Evaluation."
   ]
  },
  {
   "cell_type": "code",
   "execution_count": 1,
   "id": "67427d6d",
   "metadata": {},
   "outputs": [],
   "source": [
    "# Importing all essential libraries required for implementation of random forest (1)\n",
    "\n",
    "import numpy as np\n",
    "import pandas as pd \n",
    "import matplotlib.pyplot as plt \n",
    "import seaborn as sns\n",
    "\n",
    "from sklearn.ensemble import RandomForestClassifier\n",
    "from sklearn.metrics import classification_report\n",
    "from sklearn.svm import SVC\n",
    "from collections import Counter\n",
    "from sklearn.tree import DecisionTreeClassifier\n",
    "from sklearn.linear_model import LogisticRegression\n",
    "from sklearn.metrics import accuracy_score, recall_score, precision_score, classification_report, f1_score\n",
    "from sklearn.model_selection import train_test_split   \n",
    "from sklearn.model_selection import GridSearchCV, RandomizedSearchCV \n",
    "from sklearn.preprocessing import OrdinalEncoder\n",
    "\n",
    "import warnings\n",
    "warnings.filterwarnings('ignore')"
   ]
  },
  {
   "cell_type": "code",
   "execution_count": 2,
   "id": "d708bc15",
   "metadata": {},
   "outputs": [],
   "source": [
    "# Reading the dataset and storing it in the data frame named 'df'\n",
    "\n",
    "datfrm=pd.read_csv(\"C:/Users/Triparna Chatterjee/Desktop/TB1/SCEM/car_evaluation.csv\",header=None)"
   ]
  },
  {
   "cell_type": "code",
   "execution_count": 3,
   "id": "d68125ab",
   "metadata": {},
   "outputs": [
    {
     "data": {
      "text/html": [
       "<div>\n",
       "<style scoped>\n",
       "    .dataframe tbody tr th:only-of-type {\n",
       "        vertical-align: middle;\n",
       "    }\n",
       "\n",
       "    .dataframe tbody tr th {\n",
       "        vertical-align: top;\n",
       "    }\n",
       "\n",
       "    .dataframe thead th {\n",
       "        text-align: right;\n",
       "    }\n",
       "</style>\n",
       "<table border=\"1\" class=\"dataframe\">\n",
       "  <thead>\n",
       "    <tr style=\"text-align: right;\">\n",
       "      <th></th>\n",
       "      <th>0</th>\n",
       "      <th>1</th>\n",
       "      <th>2</th>\n",
       "      <th>3</th>\n",
       "      <th>4</th>\n",
       "      <th>5</th>\n",
       "      <th>6</th>\n",
       "    </tr>\n",
       "  </thead>\n",
       "  <tbody>\n",
       "    <tr>\n",
       "      <th>0</th>\n",
       "      <td>vhigh</td>\n",
       "      <td>vhigh</td>\n",
       "      <td>2</td>\n",
       "      <td>2</td>\n",
       "      <td>small</td>\n",
       "      <td>low</td>\n",
       "      <td>unacc</td>\n",
       "    </tr>\n",
       "    <tr>\n",
       "      <th>1</th>\n",
       "      <td>vhigh</td>\n",
       "      <td>vhigh</td>\n",
       "      <td>2</td>\n",
       "      <td>2</td>\n",
       "      <td>small</td>\n",
       "      <td>med</td>\n",
       "      <td>unacc</td>\n",
       "    </tr>\n",
       "    <tr>\n",
       "      <th>2</th>\n",
       "      <td>vhigh</td>\n",
       "      <td>vhigh</td>\n",
       "      <td>2</td>\n",
       "      <td>2</td>\n",
       "      <td>small</td>\n",
       "      <td>high</td>\n",
       "      <td>unacc</td>\n",
       "    </tr>\n",
       "    <tr>\n",
       "      <th>3</th>\n",
       "      <td>vhigh</td>\n",
       "      <td>vhigh</td>\n",
       "      <td>2</td>\n",
       "      <td>2</td>\n",
       "      <td>med</td>\n",
       "      <td>low</td>\n",
       "      <td>unacc</td>\n",
       "    </tr>\n",
       "    <tr>\n",
       "      <th>4</th>\n",
       "      <td>vhigh</td>\n",
       "      <td>vhigh</td>\n",
       "      <td>2</td>\n",
       "      <td>2</td>\n",
       "      <td>med</td>\n",
       "      <td>med</td>\n",
       "      <td>unacc</td>\n",
       "    </tr>\n",
       "  </tbody>\n",
       "</table>\n",
       "</div>"
      ],
      "text/plain": [
       "       0      1  2  3      4     5      6\n",
       "0  vhigh  vhigh  2  2  small   low  unacc\n",
       "1  vhigh  vhigh  2  2  small   med  unacc\n",
       "2  vhigh  vhigh  2  2  small  high  unacc\n",
       "3  vhigh  vhigh  2  2    med   low  unacc\n",
       "4  vhigh  vhigh  2  2    med   med  unacc"
      ]
     },
     "execution_count": 3,
     "metadata": {},
     "output_type": "execute_result"
    }
   ],
   "source": [
    "# Displaying the top five rows of the data set (1)\n",
    "\n",
    "datfrm.head()"
   ]
  },
  {
   "cell_type": "code",
   "execution_count": 4,
   "id": "31c3a9c5",
   "metadata": {},
   "outputs": [
    {
     "data": {
      "text/html": [
       "<div>\n",
       "<style scoped>\n",
       "    .dataframe tbody tr th:only-of-type {\n",
       "        vertical-align: middle;\n",
       "    }\n",
       "\n",
       "    .dataframe tbody tr th {\n",
       "        vertical-align: top;\n",
       "    }\n",
       "\n",
       "    .dataframe thead th {\n",
       "        text-align: right;\n",
       "    }\n",
       "</style>\n",
       "<table border=\"1\" class=\"dataframe\">\n",
       "  <thead>\n",
       "    <tr style=\"text-align: right;\">\n",
       "      <th></th>\n",
       "      <th>Cost</th>\n",
       "      <th>Maint</th>\n",
       "      <th>Door</th>\n",
       "      <th>People</th>\n",
       "      <th>Boot_size</th>\n",
       "      <th>Safety</th>\n",
       "      <th>Class</th>\n",
       "    </tr>\n",
       "  </thead>\n",
       "  <tbody>\n",
       "    <tr>\n",
       "      <th>0</th>\n",
       "      <td>vhigh</td>\n",
       "      <td>vhigh</td>\n",
       "      <td>2</td>\n",
       "      <td>2</td>\n",
       "      <td>small</td>\n",
       "      <td>low</td>\n",
       "      <td>unacc</td>\n",
       "    </tr>\n",
       "    <tr>\n",
       "      <th>1</th>\n",
       "      <td>vhigh</td>\n",
       "      <td>vhigh</td>\n",
       "      <td>2</td>\n",
       "      <td>2</td>\n",
       "      <td>small</td>\n",
       "      <td>med</td>\n",
       "      <td>unacc</td>\n",
       "    </tr>\n",
       "    <tr>\n",
       "      <th>2</th>\n",
       "      <td>vhigh</td>\n",
       "      <td>vhigh</td>\n",
       "      <td>2</td>\n",
       "      <td>2</td>\n",
       "      <td>small</td>\n",
       "      <td>high</td>\n",
       "      <td>unacc</td>\n",
       "    </tr>\n",
       "    <tr>\n",
       "      <th>3</th>\n",
       "      <td>vhigh</td>\n",
       "      <td>vhigh</td>\n",
       "      <td>2</td>\n",
       "      <td>2</td>\n",
       "      <td>med</td>\n",
       "      <td>low</td>\n",
       "      <td>unacc</td>\n",
       "    </tr>\n",
       "    <tr>\n",
       "      <th>4</th>\n",
       "      <td>vhigh</td>\n",
       "      <td>vhigh</td>\n",
       "      <td>2</td>\n",
       "      <td>2</td>\n",
       "      <td>med</td>\n",
       "      <td>med</td>\n",
       "      <td>unacc</td>\n",
       "    </tr>\n",
       "  </tbody>\n",
       "</table>\n",
       "</div>"
      ],
      "text/plain": [
       "    Cost  Maint Door People Boot_size Safety  Class\n",
       "0  vhigh  vhigh    2      2     small    low  unacc\n",
       "1  vhigh  vhigh    2      2     small    med  unacc\n",
       "2  vhigh  vhigh    2      2     small   high  unacc\n",
       "3  vhigh  vhigh    2      2       med    low  unacc\n",
       "4  vhigh  vhigh    2      2       med    med  unacc"
      ]
     },
     "execution_count": 4,
     "metadata": {},
     "output_type": "execute_result"
    }
   ],
   "source": [
    "# Renaming the columns and again displaying top 5 rows of the data to make it more understandable (1)\n",
    "\n",
    "col_names = ['Cost', 'Maint', 'Door', 'People', 'Boot_size', 'Safety', 'Class']\n",
    "datfrm.columns=col_names\n",
    "datfrm.head()"
   ]
  },
  {
   "cell_type": "code",
   "execution_count": 5,
   "id": "175503af",
   "metadata": {},
   "outputs": [
    {
     "name": "stdout",
     "output_type": "stream",
     "text": [
      "<class 'pandas.core.frame.DataFrame'>\n",
      "RangeIndex: 1728 entries, 0 to 1727\n",
      "Data columns (total 7 columns):\n",
      " #   Column     Non-Null Count  Dtype \n",
      "---  ------     --------------  ----- \n",
      " 0   Cost       1728 non-null   object\n",
      " 1   Maint      1728 non-null   object\n",
      " 2   Door       1728 non-null   object\n",
      " 3   People     1728 non-null   object\n",
      " 4   Boot_size  1728 non-null   object\n",
      " 5   Safety     1728 non-null   object\n",
      " 6   Class      1728 non-null   object\n",
      "dtypes: object(7)\n",
      "memory usage: 94.6+ KB\n"
     ]
    }
   ],
   "source": [
    "# Displaying the dataset summary (1)\n",
    "datfrm.info()"
   ]
  },
  {
   "cell_type": "code",
   "execution_count": 6,
   "id": "838110a4",
   "metadata": {},
   "outputs": [
    {
     "data": {
      "text/plain": [
       "Cost         0\n",
       "Maint        0\n",
       "Door         0\n",
       "People       0\n",
       "Boot_size    0\n",
       "Safety       0\n",
       "Class        0\n",
       "dtype: int64"
      ]
     },
     "execution_count": 6,
     "metadata": {},
     "output_type": "execute_result"
    }
   ],
   "source": [
    "# Finding the sum of number of null values in all the column (1)\n",
    "datfrm.isnull().sum()"
   ]
  },
  {
   "cell_type": "code",
   "execution_count": 7,
   "id": "b8747ad6",
   "metadata": {},
   "outputs": [
    {
     "name": "stdout",
     "output_type": "stream",
     "text": [
      "Cost\n",
      "vhigh    432\n",
      "high     432\n",
      "med      432\n",
      "low      432\n",
      "Name: count, dtype: int64\n",
      "Maint\n",
      "vhigh    432\n",
      "high     432\n",
      "med      432\n",
      "low      432\n",
      "Name: count, dtype: int64\n",
      "Door\n",
      "2        432\n",
      "3        432\n",
      "4        432\n",
      "5more    432\n",
      "Name: count, dtype: int64\n",
      "People\n",
      "2       576\n",
      "4       576\n",
      "more    576\n",
      "Name: count, dtype: int64\n",
      "Boot_size\n",
      "small    576\n",
      "med      576\n",
      "big      576\n",
      "Name: count, dtype: int64\n",
      "Safety\n",
      "low     576\n",
      "med     576\n",
      "high    576\n",
      "Name: count, dtype: int64\n",
      "Class\n",
      "unacc    1210\n",
      "acc       384\n",
      "good       69\n",
      "vgood      65\n",
      "Name: count, dtype: int64\n"
     ]
    }
   ],
   "source": [
    "# Count the number of occurrences of each unique value in the columns of dataset (1)\n",
    "\n",
    "for i in col_names:\n",
    "    print(datfrm[i].value_counts())"
   ]
  },
  {
   "cell_type": "code",
   "execution_count": 8,
   "id": "1dbb6956",
   "metadata": {},
   "outputs": [],
   "source": [
    "# We see that for the column door there's a value '5more' which is not appropriate,\n",
    "# Renaming it as '5 or more'\n",
    "\n",
    "datfrm.replace('5more','5 or more',inplace=True)"
   ]
  },
  {
   "cell_type": "code",
   "execution_count": 9,
   "id": "50493a72",
   "metadata": {},
   "outputs": [
    {
     "name": "stdout",
     "output_type": "stream",
     "text": [
      "Column: Cost can have values:  ['vhigh' 'high' 'med' 'low'] \n",
      "Column: Maint can have values:  ['vhigh' 'high' 'med' 'low'] \n",
      "Column: Door can have values:  ['2' '3' '4' '5 or more'] \n",
      "Column: People can have values:  ['2' '4' 'more'] \n",
      "Column: Boot_size can have values:  ['small' 'med' 'big'] \n",
      "Column: Safety can have values:  ['low' 'med' 'high'] \n",
      "Column: Class can have values:  ['unacc' 'acc' 'vgood' 'good'] \n"
     ]
    }
   ],
   "source": [
    "# And now display all the unique values occuring in all the columns (1)\n",
    "\n",
    "def show(datfrm):\n",
    "    for i in datfrm.columns[0:]:\n",
    "        print(\"Column: {} can have values:  {} \".format(i,datfrm[i].unique()))\n",
    "    \n",
    "show(datfrm)"
   ]
  },
  {
   "cell_type": "markdown",
   "id": "f54a26da",
   "metadata": {},
   "source": [
    "Since the data is clean proceeding with the further process"
   ]
  },
  {
   "cell_type": "code",
   "execution_count": 10,
   "id": "7eb703e3",
   "metadata": {},
   "outputs": [],
   "source": [
    "# Dropping last column which the target and selecting rest (1)\n",
    "\n",
    "# Putting feature variable to X\n",
    "X=datfrm.drop('Class',axis=1)\n",
    "\n",
    "# Putting target variable to y\n",
    "y=datfrm['Class']\n"
   ]
  },
  {
   "cell_type": "code",
   "execution_count": 11,
   "id": "59fbc8ab",
   "metadata": {},
   "outputs": [],
   "source": [
    "# Splitting the data into training set and testing set (1)\n",
    "# Let 30% of dataset be used for testing and 70% for training\n",
    "\n",
    "X_train, X_test, y_train, y_test = train_test_split(X, y, train_size=0.7)"
   ]
  },
  {
   "cell_type": "code",
   "execution_count": 12,
   "id": "1be23606",
   "metadata": {},
   "outputs": [],
   "source": [
    "# Since we can clearly see that order is an important for features and variables here are categorical\n",
    "# Hence using ordinal encoding (1)\n",
    "\n",
    "ord_enc=OrdinalEncoder()\n",
    "X_train=ord_enc.fit_transform(X_train)\n",
    "X_test=ord_enc.transform(X_test)"
   ]
  },
  {
   "cell_type": "code",
   "execution_count": 13,
   "id": "1b394630",
   "metadata": {},
   "outputs": [
    {
     "data": {
      "text/plain": [
       "((1209, 6), (519, 6))"
      ]
     },
     "execution_count": 13,
     "metadata": {},
     "output_type": "execute_result"
    }
   ],
   "source": [
    "# Checking the shape of X_train and X_test (1)\n",
    "\n",
    "X_train.shape, X_test.shape"
   ]
  },
  {
   "cell_type": "code",
   "execution_count": 14,
   "id": "43e91dd1",
   "metadata": {},
   "outputs": [],
   "source": [
    "# Building the Random Forest Model\n",
    "# Using Default Hyperparameters\n",
    "\n",
    "randomfc=RandomForestClassifier( n_estimators=100,\n",
    "                           criterion='gini',\n",
    "                           max_depth=None,\n",
    "                           min_samples_split=2,\n",
    "                           min_samples_leaf=1,\n",
    "                           max_features='sqrt',\n",
    "                           bootstrap=True,\n",
    "                          )"
   ]
  },
  {
   "cell_type": "code",
   "execution_count": 15,
   "id": "efa7271f",
   "metadata": {
    "scrolled": true
   },
   "outputs": [
    {
     "data": {
      "text/html": [
       "<style>#sk-container-id-1 {color: black;}#sk-container-id-1 pre{padding: 0;}#sk-container-id-1 div.sk-toggleable {background-color: white;}#sk-container-id-1 label.sk-toggleable__label {cursor: pointer;display: block;width: 100%;margin-bottom: 0;padding: 0.3em;box-sizing: border-box;text-align: center;}#sk-container-id-1 label.sk-toggleable__label-arrow:before {content: \"▸\";float: left;margin-right: 0.25em;color: #696969;}#sk-container-id-1 label.sk-toggleable__label-arrow:hover:before {color: black;}#sk-container-id-1 div.sk-estimator:hover label.sk-toggleable__label-arrow:before {color: black;}#sk-container-id-1 div.sk-toggleable__content {max-height: 0;max-width: 0;overflow: hidden;text-align: left;background-color: #f0f8ff;}#sk-container-id-1 div.sk-toggleable__content pre {margin: 0.2em;color: black;border-radius: 0.25em;background-color: #f0f8ff;}#sk-container-id-1 input.sk-toggleable__control:checked~div.sk-toggleable__content {max-height: 200px;max-width: 100%;overflow: auto;}#sk-container-id-1 input.sk-toggleable__control:checked~label.sk-toggleable__label-arrow:before {content: \"▾\";}#sk-container-id-1 div.sk-estimator input.sk-toggleable__control:checked~label.sk-toggleable__label {background-color: #d4ebff;}#sk-container-id-1 div.sk-label input.sk-toggleable__control:checked~label.sk-toggleable__label {background-color: #d4ebff;}#sk-container-id-1 input.sk-hidden--visually {border: 0;clip: rect(1px 1px 1px 1px);clip: rect(1px, 1px, 1px, 1px);height: 1px;margin: -1px;overflow: hidden;padding: 0;position: absolute;width: 1px;}#sk-container-id-1 div.sk-estimator {font-family: monospace;background-color: #f0f8ff;border: 1px dotted black;border-radius: 0.25em;box-sizing: border-box;margin-bottom: 0.5em;}#sk-container-id-1 div.sk-estimator:hover {background-color: #d4ebff;}#sk-container-id-1 div.sk-parallel-item::after {content: \"\";width: 100%;border-bottom: 1px solid gray;flex-grow: 1;}#sk-container-id-1 div.sk-label:hover label.sk-toggleable__label {background-color: #d4ebff;}#sk-container-id-1 div.sk-serial::before {content: \"\";position: absolute;border-left: 1px solid gray;box-sizing: border-box;top: 0;bottom: 0;left: 50%;z-index: 0;}#sk-container-id-1 div.sk-serial {display: flex;flex-direction: column;align-items: center;background-color: white;padding-right: 0.2em;padding-left: 0.2em;position: relative;}#sk-container-id-1 div.sk-item {position: relative;z-index: 1;}#sk-container-id-1 div.sk-parallel {display: flex;align-items: stretch;justify-content: center;background-color: white;position: relative;}#sk-container-id-1 div.sk-item::before, #sk-container-id-1 div.sk-parallel-item::before {content: \"\";position: absolute;border-left: 1px solid gray;box-sizing: border-box;top: 0;bottom: 0;left: 50%;z-index: -1;}#sk-container-id-1 div.sk-parallel-item {display: flex;flex-direction: column;z-index: 1;position: relative;background-color: white;}#sk-container-id-1 div.sk-parallel-item:first-child::after {align-self: flex-end;width: 50%;}#sk-container-id-1 div.sk-parallel-item:last-child::after {align-self: flex-start;width: 50%;}#sk-container-id-1 div.sk-parallel-item:only-child::after {width: 0;}#sk-container-id-1 div.sk-dashed-wrapped {border: 1px dashed gray;margin: 0 0.4em 0.5em 0.4em;box-sizing: border-box;padding-bottom: 0.4em;background-color: white;}#sk-container-id-1 div.sk-label label {font-family: monospace;font-weight: bold;display: inline-block;line-height: 1.2em;}#sk-container-id-1 div.sk-label-container {text-align: center;}#sk-container-id-1 div.sk-container {/* jupyter's `normalize.less` sets `[hidden] { display: none; }` but bootstrap.min.css set `[hidden] { display: none !important; }` so we also need the `!important` here to be able to override the default hidden behavior on the sphinx rendered scikit-learn.org. See: https://github.com/scikit-learn/scikit-learn/issues/21755 */display: inline-block !important;position: relative;}#sk-container-id-1 div.sk-text-repr-fallback {display: none;}</style><div id=\"sk-container-id-1\" class=\"sk-top-container\"><div class=\"sk-text-repr-fallback\"><pre>RandomForestClassifier()</pre><b>In a Jupyter environment, please rerun this cell to show the HTML representation or trust the notebook. <br />On GitHub, the HTML representation is unable to render, please try loading this page with nbviewer.org.</b></div><div class=\"sk-container\" hidden><div class=\"sk-item\"><div class=\"sk-estimator sk-toggleable\"><input class=\"sk-toggleable__control sk-hidden--visually\" id=\"sk-estimator-id-1\" type=\"checkbox\" checked><label for=\"sk-estimator-id-1\" class=\"sk-toggleable__label sk-toggleable__label-arrow\">RandomForestClassifier</label><div class=\"sk-toggleable__content\"><pre>RandomForestClassifier()</pre></div></div></div></div></div>"
      ],
      "text/plain": [
       "RandomForestClassifier()"
      ]
     },
     "execution_count": 15,
     "metadata": {},
     "output_type": "execute_result"
    }
   ],
   "source": [
    "# Training the dataset using random forest classifier model (1)\n",
    "randomfc.fit(X_train,y_train)"
   ]
  },
  {
   "cell_type": "code",
   "execution_count": 16,
   "id": "3c442882",
   "metadata": {},
   "outputs": [
    {
     "name": "stdout",
     "output_type": "stream",
     "text": [
      "The accuracy of Testing is:\n",
      "0.9672447013487476\n",
      "The accuracy of Training is:\n",
      "1.0\n"
     ]
    }
   ],
   "source": [
    "# Make predictions on the test dataset (X_test) and train dataset (X_train) \n",
    "# using the dataset trained in Random Forest classifier 'randomfc' model (1)\n",
    "\n",
    "y_pred_test= randomfc.predict(X_test)\n",
    "y_pred_train = randomfc.predict(X_train)\n",
    "\n",
    "# evaluating the acuaracy of the testing\n",
    "print(\"The accuracy of Testing is:\") \n",
    "print(accuracy_score(y_pred_test, y_test))\n",
    "\n",
    "# evaluating the acuaracy of the training\n",
    "print(\"The accuracy of Training is:\") \n",
    "print(accuracy_score(y_pred_train, y_train))"
   ]
  },
  {
   "cell_type": "markdown",
   "id": "ca05b3d8",
   "metadata": {},
   "source": [
    "\n",
    "\n",
    "Splitting the training data into a smaller subset to test the performance of the model:\n"
   ]
  },
  {
   "cell_type": "code",
   "execution_count": 17,
   "id": "4dea3d97",
   "metadata": {},
   "outputs": [
    {
     "name": "stdout",
     "output_type": "stream",
     "text": [
      "Train Size: 0.9,    Accuracy: 0.9827,    Variance of Probabilities: 0.0751\n",
      "Train Size: 0.8,    Accuracy: 0.9855,    Variance of Probabilities: 0.0730\n",
      "Train Size: 0.7,    Accuracy: 0.9672,    Variance of Probabilities: 0.0723\n",
      "Train Size: 0.6,    Accuracy: 0.9624,    Variance of Probabilities: 0.0678\n",
      "Train Size: 0.5,    Accuracy: 0.9421,    Variance of Probabilities: 0.0639\n",
      "Train Size: 0.4,    Accuracy: 0.9489,    Variance of Probabilities: 0.0600\n",
      "Train Size: 0.3,    Accuracy: 0.9248,    Variance of Probabilities: 0.0553\n",
      "Train Size: 0.2,    Accuracy: 0.8908,    Variance of Probabilities: 0.0529\n",
      "Train Size: 0.1,    Accuracy: 0.8348,    Variance of Probabilities: 0.0381\n"
     ]
    }
   ],
   "source": [
    "# Define the train sizes to iterate over\n",
    "train_sizes = [0.9, 0.8, 0.7, 0.6, 0.5, 0.4, 0.3, 0.2, 0.1]\n",
    "\n",
    "# Initialize a dictionary to store the results\n",
    "results=[]\n",
    "variances=[]\n",
    "\n",
    "# Iterate over the train sizes and train the model\n",
    "for train_size in train_sizes:\n",
    "    # Split the dataset using train_test_split\n",
    "    X_train_sub, X_test_sub, y_train_sub, y_test_sub = train_test_split(X, y, train_size=train_size)\n",
    "    \n",
    "    #using ordinal encoding\n",
    "    ord_enc=OrdinalEncoder()\n",
    "    X_train_sub=ord_enc.fit_transform(X_train_sub)\n",
    "    X_test_sub=ord_enc.fit_transform(X_test_sub)\n",
    "    \n",
    "    # Train a Random Forest classifier on the training subset\n",
    "    randomfc.fit(X_train_sub,y_train_sub)\n",
    "    \n",
    "    # Evaluate the model's accuracy on the test subset\n",
    "    y_pred_sub = randomfc.predict(X_test_sub)\n",
    "    accuracy = accuracy_score(y_test_sub, y_pred_sub)\n",
    "    results.append(accuracy)     \n",
    "    \n",
    "    # Compute probabilistic predictions\n",
    "    y_pred_proba_sub = randomfc.predict_proba(X_test_sub)\n",
    "    \n",
    "    # Compute the variance of the predicted probabilities\n",
    "    variance = np.var(y_pred_proba_sub, axis=0).mean()  # Compute the mean variance across classes\n",
    "    variances.append(variance)\n",
    "    \n",
    "    # Print the accuracy for the current train size\n",
    "    print(f\"Train Size: {train_size},    Accuracy: {accuracy:.4f},    Variance of Probabilities: {variance:.4f}\")\n",
    "\n"
   ]
  },
  {
   "cell_type": "markdown",
   "id": "e9fb1a63",
   "metadata": {},
   "source": [
    "We see that when the model is trained on random subsets of training datasets, when the training is size is small the accuracy obtained is less, as the data size on using which the model lgets oppurtunity to learn more hence more accurate predictions"
   ]
  },
  {
   "cell_type": "markdown",
   "id": "9294c926",
   "metadata": {},
   "source": [
    "### Metrics"
   ]
  },
  {
   "cell_type": "code",
   "execution_count": 18,
   "id": "bcb87ebb",
   "metadata": {},
   "outputs": [
    {
     "name": "stdout",
     "output_type": "stream",
     "text": [
      " ClassificationReport for Test data: \n",
      "              precision    recall  f1-score   support\n",
      "\n",
      "         acc       0.92      0.95      0.93       128\n",
      "        good       0.83      0.75      0.79        20\n",
      "       unacc       0.99      0.99      0.99       351\n",
      "       vgood       0.94      0.85      0.89        20\n",
      "\n",
      "    accuracy                           0.97       519\n",
      "   macro avg       0.92      0.88      0.90       519\n",
      "weighted avg       0.97      0.97      0.97       519\n",
      "\n",
      " Classification Report for Train data: \n",
      "              precision    recall  f1-score   support\n",
      "\n",
      "         acc       1.00      1.00      1.00       256\n",
      "        good       1.00      1.00      1.00        49\n",
      "       unacc       1.00      1.00      1.00       859\n",
      "       vgood       1.00      1.00      1.00        45\n",
      "\n",
      "    accuracy                           1.00      1209\n",
      "   macro avg       1.00      1.00      1.00      1209\n",
      "weighted avg       1.00      1.00      1.00      1209\n",
      "\n"
     ]
    }
   ],
   "source": [
    "# Using Metrics for comparing the results of the y_test (tested values) and y_test_pred (predicted tested values)\n",
    "# and  y_train (trained values) and y_train_pred (predicted trained values) (1)\n",
    "\n",
    "print(\" ClassificationReport for Test data: \")\n",
    "print(classification_report(y_test, y_pred_test))\n",
    "\n",
    "print(\" Classification Report for Train data: \")\n",
    "print(classification_report(y_train, y_pred_train))"
   ]
  },
  {
   "cell_type": "code",
   "execution_count": 19,
   "id": "630718d3",
   "metadata": {},
   "outputs": [
    {
     "data": {
      "text/plain": [
       "array([0.18706456, 0.16713881, 0.09945262, 0.19740346, 0.10348165,\n",
       "       0.24545889])"
      ]
     },
     "execution_count": 19,
     "metadata": {},
     "output_type": "execute_result"
    }
   ],
   "source": [
    "# Random forest is used for feature selection also. (1)\n",
    "# It has feature importance property which shows which all feature are dependant on the target variable.\n",
    "\n",
    "randomfc.feature_importances_"
   ]
  },
  {
   "cell_type": "code",
   "execution_count": 20,
   "id": "0c8e916d",
   "metadata": {},
   "outputs": [
    {
     "name": "stdout",
     "output_type": "stream",
     "text": [
      "  Column features     score\n",
      "5          Safety  0.245459\n",
      "3          People  0.197403\n",
      "0            Cost  0.187065\n",
      "1           Maint  0.167139\n",
      "4       Boot_size  0.103482\n",
      "2            Door  0.099453\n"
     ]
    }
   ],
   "source": [
    "# Tabulating the importance of the features in decending order\n",
    "\n",
    "df = pd.DataFrame({'Column features':datfrm.drop('Class',axis=1).columns,'score':randomfc.feature_importances_})\n",
    "\n",
    "df_sorted = df.sort_values(by='score', ascending=False)\n",
    "\n",
    "print(df_sorted)"
   ]
  },
  {
   "cell_type": "markdown",
   "id": "e302c73d",
   "metadata": {},
   "source": [
    "From the above table we can see that the 'Safety' is the most important feature and 'Door' is the least important one for determining the target 'Class'"
   ]
  },
  {
   "cell_type": "code",
   "execution_count": 21,
   "id": "52ff3886",
   "metadata": {},
   "outputs": [
    {
     "data": {
      "image/png": "[encoded data removed]",
      "text/plain": [
       "<Figure size 640x480 with 1 Axes>"
      ]
     },
     "metadata": {},
     "output_type": "display_data"
    }
   ],
   "source": [
    "# Create a seaborn bar plot  to visualise the same\n",
    "\n",
    "sns.barplot(x=datfrm.drop('Class',axis=1).columns,y=randomfc.feature_importances_)\n",
    "\n",
    "# Adds the labels to the graph \n",
    "plt.xlabel=('Feature Importance Score')\n",
    "\n",
    "plt.ylabel=('Features')\n",
    "\n",
    "# adding title to the graph \n",
    "plt.title('Visualization Feature Importance ')\n",
    "\n",
    "# visualize the graph\n",
    "plt.show()"
   ]
  },
  {
   "cell_type": "markdown",
   "id": "c6a0805e",
   "metadata": {},
   "source": [
    "Since lower the score indicates that feature is not dependant on target and vice-versa, we can conclude that 'Safety' is most important feature for determining the 'Class' and similarly 'Door' is the least important feature for the same. "
   ]
  },
  {
   "cell_type": "markdown",
   "id": "7f9c2561",
   "metadata": {},
   "source": [
    " ### Hyperparameter Tuning"
   ]
  },
  {
   "cell_type": "markdown",
   "id": "8f458c47",
   "metadata": {},
   "source": [
    "The Random Forest Model is performing well and giving an accuracy of 96.72 %, tuning the hyperparameter to check if there's any further improvement in the accuracy."
   ]
  },
  {
   "cell_type": "code",
   "execution_count": 22,
   "id": "885157b7",
   "metadata": {},
   "outputs": [],
   "source": [
    "#Declaring all the possible values in various hyperparameters to  be used in the grid\n",
    "\n",
    "# Number of trees in random forest\n",
    "n_estimators = [int(x) for x in np.linspace(start = 10, stop = 200, num = 10)]\n",
    "# Number of features to consider at every split\n",
    "max_features = ['auto', 'sqrt']\n",
    "# Maximum number of levels in tree\n",
    "max_depth = [2,4]\n",
    "# Minimum number of samples required to split a node\n",
    "min_samples_split = [2, 5]\n",
    "# Minimum number of samples required at each leaf node\n",
    "min_samples_leaf = [1, 2]\n",
    "# Method of selecting samples for training each tree\n",
    "bootstrap = [True, False]\n",
    "# criterion\n",
    "criteria = [ 'gini','entropy']"
   ]
  },
  {
   "cell_type": "code",
   "execution_count": 23,
   "id": "2382d898",
   "metadata": {},
   "outputs": [
    {
     "name": "stdout",
     "output_type": "stream",
     "text": [
      "{'n_estimators': [10, 31, 52, 73, 94, 115, 136, 157, 178, 200], 'max_features': ['auto', 'sqrt'], 'max_depth': [2, 4], 'min_samples_split': [2, 5], 'min_samples_leaf': [1, 2], 'bootstrap': [True, False]}\n"
     ]
    }
   ],
   "source": [
    "# Create the param grid\n",
    "param_grid = {'n_estimators': n_estimators,\n",
    "               'max_features': max_features,\n",
    "               'max_depth': max_depth,\n",
    "               'min_samples_split': min_samples_split,\n",
    "               'min_samples_leaf': min_samples_leaf,\n",
    "               'bootstrap': bootstrap}\n",
    "print(param_grid)"
   ]
  },
  {
   "cell_type": "code",
   "execution_count": 24,
   "id": "f4293387",
   "metadata": {},
   "outputs": [],
   "source": [
    "# Instantiate the Grid Search process\n",
    "randfor_grid = GridSearchCV(estimator = randomfc, param_grid = param_grid, cv = 3, verbose=1, n_jobs = -1)"
   ]
  },
  {
   "cell_type": "code",
   "execution_count": 25,
   "id": "7187c6a4",
   "metadata": {},
   "outputs": [
    {
     "name": "stdout",
     "output_type": "stream",
     "text": [
      "Fitting 3 folds for each of 320 candidates, totalling 960 fits\n"
     ]
    },
    {
     "data": {
      "text/html": [
       "<style>#sk-container-id-2 {color: black;}#sk-container-id-2 pre{padding: 0;}#sk-container-id-2 div.sk-toggleable {background-color: white;}#sk-container-id-2 label.sk-toggleable__label {cursor: pointer;display: block;width: 100%;margin-bottom: 0;padding: 0.3em;box-sizing: border-box;text-align: center;}#sk-container-id-2 label.sk-toggleable__label-arrow:before {content: \"▸\";float: left;margin-right: 0.25em;color: #696969;}#sk-container-id-2 label.sk-toggleable__label-arrow:hover:before {color: black;}#sk-container-id-2 div.sk-estimator:hover label.sk-toggleable__label-arrow:before {color: black;}#sk-container-id-2 div.sk-toggleable__content {max-height: 0;max-width: 0;overflow: hidden;text-align: left;background-color: #f0f8ff;}#sk-container-id-2 div.sk-toggleable__content pre {margin: 0.2em;color: black;border-radius: 0.25em;background-color: #f0f8ff;}#sk-container-id-2 input.sk-toggleable__control:checked~div.sk-toggleable__content {max-height: 200px;max-width: 100%;overflow: auto;}#sk-container-id-2 input.sk-toggleable__control:checked~label.sk-toggleable__label-arrow:before {content: \"▾\";}#sk-container-id-2 div.sk-estimator input.sk-toggleable__control:checked~label.sk-toggleable__label {background-color: #d4ebff;}#sk-container-id-2 div.sk-label input.sk-toggleable__control:checked~label.sk-toggleable__label {background-color: #d4ebff;}#sk-container-id-2 input.sk-hidden--visually {border: 0;clip: rect(1px 1px 1px 1px);clip: rect(1px, 1px, 1px, 1px);height: 1px;margin: -1px;overflow: hidden;padding: 0;position: absolute;width: 1px;}#sk-container-id-2 div.sk-estimator {font-family: monospace;background-color: #f0f8ff;border: 1px dotted black;border-radius: 0.25em;box-sizing: border-box;margin-bottom: 0.5em;}#sk-container-id-2 div.sk-estimator:hover {background-color: #d4ebff;}#sk-container-id-2 div.sk-parallel-item::after {content: \"\";width: 100%;border-bottom: 1px solid gray;flex-grow: 1;}#sk-container-id-2 div.sk-label:hover label.sk-toggleable__label {background-color: #d4ebff;}#sk-container-id-2 div.sk-serial::before {content: \"\";position: absolute;border-left: 1px solid gray;box-sizing: border-box;top: 0;bottom: 0;left: 50%;z-index: 0;}#sk-container-id-2 div.sk-serial {display: flex;flex-direction: column;align-items: center;background-color: white;padding-right: 0.2em;padding-left: 0.2em;position: relative;}#sk-container-id-2 div.sk-item {position: relative;z-index: 1;}#sk-container-id-2 div.sk-parallel {display: flex;align-items: stretch;justify-content: center;background-color: white;position: relative;}#sk-container-id-2 div.sk-item::before, #sk-container-id-2 div.sk-parallel-item::before {content: \"\";position: absolute;border-left: 1px solid gray;box-sizing: border-box;top: 0;bottom: 0;left: 50%;z-index: -1;}#sk-container-id-2 div.sk-parallel-item {display: flex;flex-direction: column;z-index: 1;position: relative;background-color: white;}#sk-container-id-2 div.sk-parallel-item:first-child::after {align-self: flex-end;width: 50%;}#sk-container-id-2 div.sk-parallel-item:last-child::after {align-self: flex-start;width: 50%;}#sk-container-id-2 div.sk-parallel-item:only-child::after {width: 0;}#sk-container-id-2 div.sk-dashed-wrapped {border: 1px dashed gray;margin: 0 0.4em 0.5em 0.4em;box-sizing: border-box;padding-bottom: 0.4em;background-color: white;}#sk-container-id-2 div.sk-label label {font-family: monospace;font-weight: bold;display: inline-block;line-height: 1.2em;}#sk-container-id-2 div.sk-label-container {text-align: center;}#sk-container-id-2 div.sk-container {/* jupyter's `normalize.less` sets `[hidden] { display: none; }` but bootstrap.min.css set `[hidden] { display: none !important; }` so we also need the `!important` here to be able to override the default hidden behavior on the sphinx rendered scikit-learn.org. See: https://github.com/scikit-learn/scikit-learn/issues/21755 */display: inline-block !important;position: relative;}#sk-container-id-2 div.sk-text-repr-fallback {display: none;}</style><div id=\"sk-container-id-2\" class=\"sk-top-container\"><div class=\"sk-text-repr-fallback\"><pre>GridSearchCV(cv=3, estimator=RandomForestClassifier(), n_jobs=-1,\n",
       "             param_grid={&#x27;bootstrap&#x27;: [True, False], &#x27;max_depth&#x27;: [2, 4],\n",
       "                         &#x27;max_features&#x27;: [&#x27;auto&#x27;, &#x27;sqrt&#x27;],\n",
       "                         &#x27;min_samples_leaf&#x27;: [1, 2],\n",
       "                         &#x27;min_samples_split&#x27;: [2, 5],\n",
       "                         &#x27;n_estimators&#x27;: [10, 31, 52, 73, 94, 115, 136, 157,\n",
       "                                          178, 200]},\n",
       "             verbose=1)</pre><b>In a Jupyter environment, please rerun this cell to show the HTML representation or trust the notebook. <br />On GitHub, the HTML representation is unable to render, please try loading this page with nbviewer.org.</b></div><div class=\"sk-container\" hidden><div class=\"sk-item sk-dashed-wrapped\"><div class=\"sk-label-container\"><div class=\"sk-label sk-toggleable\"><input class=\"sk-toggleable__control sk-hidden--visually\" id=\"sk-estimator-id-2\" type=\"checkbox\" ><label for=\"sk-estimator-id-2\" class=\"sk-toggleable__label sk-toggleable__label-arrow\">GridSearchCV</label><div class=\"sk-toggleable__content\"><pre>GridSearchCV(cv=3, estimator=RandomForestClassifier(), n_jobs=-1,\n",
       "             param_grid={&#x27;bootstrap&#x27;: [True, False], &#x27;max_depth&#x27;: [2, 4],\n",
       "                         &#x27;max_features&#x27;: [&#x27;auto&#x27;, &#x27;sqrt&#x27;],\n",
       "                         &#x27;min_samples_leaf&#x27;: [1, 2],\n",
       "                         &#x27;min_samples_split&#x27;: [2, 5],\n",
       "                         &#x27;n_estimators&#x27;: [10, 31, 52, 73, 94, 115, 136, 157,\n",
       "                                          178, 200]},\n",
       "             verbose=1)</pre></div></div></div><div class=\"sk-parallel\"><div class=\"sk-parallel-item\"><div class=\"sk-item\"><div class=\"sk-label-container\"><div class=\"sk-label sk-toggleable\"><input class=\"sk-toggleable__control sk-hidden--visually\" id=\"sk-estimator-id-3\" type=\"checkbox\" ><label for=\"sk-estimator-id-3\" class=\"sk-toggleable__label sk-toggleable__label-arrow\">estimator: RandomForestClassifier</label><div class=\"sk-toggleable__content\"><pre>RandomForestClassifier()</pre></div></div></div><div class=\"sk-serial\"><div class=\"sk-item\"><div class=\"sk-estimator sk-toggleable\"><input class=\"sk-toggleable__control sk-hidden--visually\" id=\"sk-estimator-id-4\" type=\"checkbox\" ><label for=\"sk-estimator-id-4\" class=\"sk-toggleable__label sk-toggleable__label-arrow\">RandomForestClassifier</label><div class=\"sk-toggleable__content\"><pre>RandomForestClassifier()</pre></div></div></div></div></div></div></div></div></div></div>"
      ],
      "text/plain": [
       "GridSearchCV(cv=3, estimator=RandomForestClassifier(), n_jobs=-1,\n",
       "             param_grid={'bootstrap': [True, False], 'max_depth': [2, 4],\n",
       "                         'max_features': ['auto', 'sqrt'],\n",
       "                         'min_samples_leaf': [1, 2],\n",
       "                         'min_samples_split': [2, 5],\n",
       "                         'n_estimators': [10, 31, 52, 73, 94, 115, 136, 157,\n",
       "                                          178, 200]},\n",
       "             verbose=1)"
      ]
     },
     "execution_count": 25,
     "metadata": {},
     "output_type": "execute_result"
    }
   ],
   "source": [
    "# Fit the Grid Search Cross Validation to data\n",
    "randfor_grid.fit(X_train,y_train)"
   ]
  },
  {
   "cell_type": "code",
   "execution_count": 26,
   "id": "e02b4619",
   "metadata": {
    "scrolled": true
   },
   "outputs": [
    {
     "name": "stdout",
     "output_type": "stream",
     "text": [
      "{'bootstrap': True, 'max_depth': 4, 'max_features': 'sqrt', 'min_samples_leaf': 1, 'min_samples_split': 2, 'n_estimators': 10}\n"
     ]
    }
   ],
   "source": [
    "# Displaying the best parameter obtained after performing the hyperparameter tuning (2)\n",
    "\n",
    "print(randfor_grid.best_params_)"
   ]
  },
  {
   "cell_type": "code",
   "execution_count": 28,
   "id": "6e75057c",
   "metadata": {},
   "outputs": [],
   "source": [
    "# Using the tuned parameters obtained from GridSearchCV to fit the data (2)\n",
    "\n",
    "rfc=RandomForestClassifier(bootstrap= True,\n",
    " max_depth= 4,\n",
    " max_features= 'sqrt',\n",
    " min_samples_leaf= 1,\n",
    " min_samples_split= 2,\n",
    " n_estimators= 10)\n",
    "\n",
    "randomfc.fit(X_train,y_train)\n",
    "\n",
    "y_pred_hp=randomfc.predict(X_test)"
   ]
  },
  {
   "cell_type": "code",
   "execution_count": 29,
   "id": "fdd2fedf",
   "metadata": {},
   "outputs": [
    {
     "data": {
      "text/plain": [
       "0.9595375722543352"
      ]
     },
     "execution_count": 29,
     "metadata": {},
     "output_type": "execute_result"
    }
   ],
   "source": [
    "# calculating the accuracy of obtained using \n",
    "accuracy_score(y_pred_hp, y_test)"
   ]
  },
  {
   "cell_type": "markdown",
   "id": "dff86dc4",
   "metadata": {},
   "source": [
    "We can conclude that by tuning the parameters of model, it is not performing more efficiently, so the tuned parameter will not be preferred over the default parameters in this case."
   ]
  },
  {
   "cell_type": "markdown",
   "id": "91dd10d5",
   "metadata": {},
   "source": [
    "### Testing the data other models like SVM, Logistc Regression and Decision Tree for this to compare which among the four including random forest works the best"
   ]
  },
  {
   "cell_type": "markdown",
   "id": "c0345f31",
   "metadata": {},
   "source": [
    "1. Support Vector Machine"
   ]
  },
  {
   "cell_type": "code",
   "execution_count": 30,
   "id": "6ac20c80",
   "metadata": {},
   "outputs": [
    {
     "data": {
      "text/html": [
       "<div>\n",
       "<style scoped>\n",
       "    .dataframe tbody tr th:only-of-type {\n",
       "        vertical-align: middle;\n",
       "    }\n",
       "\n",
       "    .dataframe tbody tr th {\n",
       "        vertical-align: top;\n",
       "    }\n",
       "\n",
       "    .dataframe thead th {\n",
       "        text-align: right;\n",
       "    }\n",
       "</style>\n",
       "<table border=\"1\" class=\"dataframe\">\n",
       "  <thead>\n",
       "    <tr style=\"text-align: right;\">\n",
       "      <th></th>\n",
       "      <th>Predict</th>\n",
       "      <th>Real</th>\n",
       "    </tr>\n",
       "  </thead>\n",
       "  <tbody>\n",
       "    <tr>\n",
       "      <th>1008</th>\n",
       "      <td>unacc</td>\n",
       "      <td>unacc</td>\n",
       "    </tr>\n",
       "    <tr>\n",
       "      <th>970</th>\n",
       "      <td>unacc</td>\n",
       "      <td>acc</td>\n",
       "    </tr>\n",
       "    <tr>\n",
       "      <th>1480</th>\n",
       "      <td>unacc</td>\n",
       "      <td>acc</td>\n",
       "    </tr>\n",
       "    <tr>\n",
       "      <th>746</th>\n",
       "      <td>acc</td>\n",
       "      <td>acc</td>\n",
       "    </tr>\n",
       "    <tr>\n",
       "      <th>1366</th>\n",
       "      <td>unacc</td>\n",
       "      <td>acc</td>\n",
       "    </tr>\n",
       "  </tbody>\n",
       "</table>\n",
       "</div>"
      ],
      "text/plain": [
       "     Predict   Real\n",
       "1008   unacc  unacc\n",
       "970    unacc    acc\n",
       "1480   unacc    acc\n",
       "746      acc    acc\n",
       "1366   unacc    acc"
      ]
     },
     "execution_count": 30,
     "metadata": {},
     "output_type": "execute_result"
    }
   ],
   "source": [
    "# Using the Support Vector Machine Model(3)\n",
    "\n",
    "SupVecMach=SVC(kernel='linear',C=1.0)\n",
    "SupVecMach.fit(X_train,y_train)\n",
    "\n",
    "y_pred_SVM=SupVecMach.predict(X_test)\n",
    "\n",
    "# Displaying random predicted vs real output for SVM\n",
    "frame={'Predict': y_pred_SVM,'Real': y_test}\n",
    "datfrm_SupVecMach=pd.DataFrame(frame)\n",
    "datfrm_SupVecMach.tail()"
   ]
  },
  {
   "cell_type": "code",
   "execution_count": 31,
   "id": "bde37521",
   "metadata": {},
   "outputs": [
    {
     "name": "stdout",
     "output_type": "stream",
     "text": [
      "The accuracy of Support Vector Machine is:\n"
     ]
    },
    {
     "data": {
      "text/plain": [
       "0.6917148362235067"
      ]
     },
     "execution_count": 31,
     "metadata": {},
     "output_type": "execute_result"
    }
   ],
   "source": [
    "print(\"The accuracy of Support Vector Machine is:\")\n",
    "accuracy_score(y_pred_SVM,y_test)"
   ]
  },
  {
   "cell_type": "markdown",
   "id": "f63e0408",
   "metadata": {},
   "source": [
    "2. Decision Tree"
   ]
  },
  {
   "cell_type": "code",
   "execution_count": 32,
   "id": "4643c37c",
   "metadata": {},
   "outputs": [
    {
     "data": {
      "text/html": [
       "<div>\n",
       "<style scoped>\n",
       "    .dataframe tbody tr th:only-of-type {\n",
       "        vertical-align: middle;\n",
       "    }\n",
       "\n",
       "    .dataframe tbody tr th {\n",
       "        vertical-align: top;\n",
       "    }\n",
       "\n",
       "    .dataframe thead th {\n",
       "        text-align: right;\n",
       "    }\n",
       "</style>\n",
       "<table border=\"1\" class=\"dataframe\">\n",
       "  <thead>\n",
       "    <tr style=\"text-align: right;\">\n",
       "      <th></th>\n",
       "      <th>Predict</th>\n",
       "      <th>Real</th>\n",
       "    </tr>\n",
       "  </thead>\n",
       "  <tbody>\n",
       "    <tr>\n",
       "      <th>1008</th>\n",
       "      <td>unacc</td>\n",
       "      <td>unacc</td>\n",
       "    </tr>\n",
       "    <tr>\n",
       "      <th>970</th>\n",
       "      <td>acc</td>\n",
       "      <td>acc</td>\n",
       "    </tr>\n",
       "    <tr>\n",
       "      <th>1480</th>\n",
       "      <td>acc</td>\n",
       "      <td>acc</td>\n",
       "    </tr>\n",
       "    <tr>\n",
       "      <th>746</th>\n",
       "      <td>acc</td>\n",
       "      <td>acc</td>\n",
       "    </tr>\n",
       "    <tr>\n",
       "      <th>1366</th>\n",
       "      <td>acc</td>\n",
       "      <td>acc</td>\n",
       "    </tr>\n",
       "  </tbody>\n",
       "</table>\n",
       "</div>"
      ],
      "text/plain": [
       "     Predict   Real\n",
       "1008   unacc  unacc\n",
       "970      acc    acc\n",
       "1480     acc    acc\n",
       "746      acc    acc\n",
       "1366     acc    acc"
      ]
     },
     "execution_count": 32,
     "metadata": {},
     "output_type": "execute_result"
    }
   ],
   "source": [
    "# Using the Decision Tree Model (3)\n",
    "one_dec_tree = DecisionTreeClassifier()\n",
    "one_dec_tree.fit(X_train, y_train)\n",
    "\n",
    "y_pred_DecTree=one_dec_tree.predict(X_test)\n",
    "\n",
    "# Displaying random predicted vs real output for Decision Tree\n",
    "frame={'Predict': y_pred_DecTree,'Real': y_test}\n",
    "datfrm_DecTree=pd.DataFrame(frame)\n",
    "datfrm_DecTree.tail()"
   ]
  },
  {
   "cell_type": "code",
   "execution_count": 33,
   "id": "36bb797e",
   "metadata": {},
   "outputs": [
    {
     "name": "stdout",
     "output_type": "stream",
     "text": [
      "The accuracy of Decision Tree is:\n"
     ]
    },
    {
     "data": {
      "text/plain": [
       "0.9595375722543352"
      ]
     },
     "execution_count": 33,
     "metadata": {},
     "output_type": "execute_result"
    }
   ],
   "source": [
    "print(\"The accuracy of Decision Tree is:\")\n",
    "accuracy_score(y_pred_DecTree,y_test)"
   ]
  },
  {
   "cell_type": "markdown",
   "id": "d690f334",
   "metadata": {},
   "source": [
    "3. Logistic Regression"
   ]
  },
  {
   "cell_type": "code",
   "execution_count": 34,
   "id": "d9ad023d",
   "metadata": {},
   "outputs": [
    {
     "data": {
      "text/html": [
       "<div>\n",
       "<style scoped>\n",
       "    .dataframe tbody tr th:only-of-type {\n",
       "        vertical-align: middle;\n",
       "    }\n",
       "\n",
       "    .dataframe tbody tr th {\n",
       "        vertical-align: top;\n",
       "    }\n",
       "\n",
       "    .dataframe thead th {\n",
       "        text-align: right;\n",
       "    }\n",
       "</style>\n",
       "<table border=\"1\" class=\"dataframe\">\n",
       "  <thead>\n",
       "    <tr style=\"text-align: right;\">\n",
       "      <th></th>\n",
       "      <th>Predict</th>\n",
       "      <th>Real</th>\n",
       "    </tr>\n",
       "  </thead>\n",
       "  <tbody>\n",
       "    <tr>\n",
       "      <th>1008</th>\n",
       "      <td>unacc</td>\n",
       "      <td>unacc</td>\n",
       "    </tr>\n",
       "    <tr>\n",
       "      <th>970</th>\n",
       "      <td>unacc</td>\n",
       "      <td>acc</td>\n",
       "    </tr>\n",
       "    <tr>\n",
       "      <th>1480</th>\n",
       "      <td>unacc</td>\n",
       "      <td>acc</td>\n",
       "    </tr>\n",
       "    <tr>\n",
       "      <th>746</th>\n",
       "      <td>unacc</td>\n",
       "      <td>acc</td>\n",
       "    </tr>\n",
       "    <tr>\n",
       "      <th>1366</th>\n",
       "      <td>unacc</td>\n",
       "      <td>acc</td>\n",
       "    </tr>\n",
       "  </tbody>\n",
       "</table>\n",
       "</div>"
      ],
      "text/plain": [
       "     Predict   Real\n",
       "1008   unacc  unacc\n",
       "970    unacc    acc\n",
       "1480   unacc    acc\n",
       "746    unacc    acc\n",
       "1366   unacc    acc"
      ]
     },
     "execution_count": 34,
     "metadata": {},
     "output_type": "execute_result"
    }
   ],
   "source": [
    "# Using the Logistic Regression Model (4)\n",
    "LogReg = LogisticRegression(max_iter = 1000,random_state = 48)\n",
    "LogReg.fit(X_train,y_train)\n",
    "\n",
    "y_pred_LogReg=LogReg.predict(X_test)\n",
    "\n",
    "# Displaying random predicted vs real output for Logistic Regression\n",
    "frame={'Predict': y_pred_LogReg,'Real': y_test}\n",
    "datfrm_LogReg=pd.DataFrame(frame)\n",
    "datfrm_LogReg.tail()"
   ]
  },
  {
   "cell_type": "code",
   "execution_count": 35,
   "id": "4a898968",
   "metadata": {},
   "outputs": [
    {
     "name": "stdout",
     "output_type": "stream",
     "text": [
      "The accuracy of Logistic Regression is:\n"
     ]
    },
    {
     "data": {
      "text/plain": [
       "0.6608863198458574"
      ]
     },
     "execution_count": 35,
     "metadata": {},
     "output_type": "execute_result"
    }
   ],
   "source": [
    "print(\"The accuracy of Logistic Regression is:\")\n",
    "accuracy_score(y_pred_LogReg,y_test)"
   ]
  },
  {
   "cell_type": "markdown",
   "id": "67202450",
   "metadata": {},
   "source": [
    "Comparing all the four models: Random Forest, Support Vector Machine, Decision Tree and Logistic Regression we find that Random Forest performs the best giving the highest accuracy of 96.72% and Logistic Regression performs the worst giving accuracy of 66.08%\n",
    "\n",
    "1. Random Forest          : 96.72 %\n",
    "2. Decision Tree          : 95.95 %\n",
    "3. Support Vector Machine : 69.17 %\n",
    "4. Logistic Regression    : 66.08 %"
   ]
  },
  {
   "cell_type": "markdown",
   "id": "fe724654",
   "metadata": {},
   "source": [
   ]
  }
 ],
 "metadata": {
  "kernelspec": {
   "display_name": "Python 3 (ipykernel)",
   "language": "python",
   "name": "python3"
  },
  "language_info": {
   "codemirror_mode": {
    "name": "ipython",
    "version": 3
   },
   "file_extension": ".py",
   "mimetype": "text/x-python",
   "name": "python",
   "nbconvert_exporter": "python",
   "pygments_lexer": "ipython3",
   "version": "3.11.5"
  }
 },
 "nbformat": 4,
 "nbformat_minor": 5
}
